{
  "nbformat": 4,
  "nbformat_minor": 0,
  "metadata": {
    "colab": {
      "name": "multi-mono-sf.ipynb",
      "provenance": [],
      "collapsed_sections": []
    },
    "kernelspec": {
      "name": "python3",
      "display_name": "Python 3"
    },
    "language_info": {
      "name": "python"
    },
    "accelerator": "GPU"
  },
  "cells": [
    {
      "cell_type": "markdown",
      "metadata": {
        "id": "MPDRUrEVqf9F"
      },
      "source": [
        "### Setup"
      ]
    },
    {
      "cell_type": "code",
      "metadata": {
        "id": "pVF_fRkqQN6q"
      },
      "source": [
        "#download the image data\n",
        "%cd /content/\n",
        "!gdown https://drive.google.com/uc?id=1HpFpsQ7VojeJbXj8i9i8IeIzXrzQ5zOs\n",
        "!unzip \"nerf_data.zip\"; rm \"nerf_data.zip\"\n",
        "# !gdown https://drive.google.com/uc?id=1ahp0Ac3I_7Fm1usqPT_Rvgww5KaLvo6Y\n",
        "# !unzip davis.zip; rm davis.zip"
      ],
      "execution_count": null,
      "outputs": []
    },
    {
      "cell_type": "code",
      "metadata": {
        "id": "iKffmcWPWgB2"
      },
      "source": [
        "%cd /content\n",
        "!git clone https://github.com/rohaldb/Neural-Scene-Flow-Fields\n",
        "%cd /content/Neural-Scene-Flow-Fields\n",
        "!pip install -r requirements.txt"
      ],
      "execution_count": null,
      "outputs": []
    },
    {
      "cell_type": "code",
      "metadata": {
        "id": "ZFbhZA28nFVm",
        "colab": {
          "base_uri": "https://localhost:8080/"
        },
        "outputId": "e3110e91-8786-424d-b832-196452d15494"
      },
      "source": [
        "%cd /content\n",
        "!git clone https://github.com/rohaldb/multi-mono-sf.git\n",
        "%cd multi-mono-sf\n",
        "!chmod -R +x ./\n",
        "!pip install -r requirements.txt"
      ],
      "execution_count": 3,
      "outputs": [
        {
          "output_type": "stream",
          "text": [
            "Requirement already satisfied: opencv-python in /usr/local/lib/python3.7/dist-packages (from -r requirements.txt (line 1)) (4.1.2.30)\n",
            "Collecting colorama\n",
            "  Downloading https://files.pythonhosted.org/packages/44/98/5b86278fbbf250d239ae0ecb724f8572af1c91f4a11edf4d36a206189440/colorama-0.4.4-py2.py3-none-any.whl\n",
            "Requirement already satisfied: scikit-image in /usr/local/lib/python3.7/dist-packages (from -r requirements.txt (line 3)) (0.16.2)\n",
            "Requirement already satisfied: pytz in /usr/local/lib/python3.7/dist-packages (from -r requirements.txt (line 4)) (2018.9)\n",
            "Collecting tqdm==4.40.0\n",
            "\u001b[?25l  Downloading https://files.pythonhosted.org/packages/a5/13/cd55c23e3e158ed5b87cae415ee3844fc54cb43803fa3a0a064d23ecb883/tqdm-4.40.0-py2.py3-none-any.whl (54kB)\n",
            "\u001b[K     |████████████████████████████████| 61kB 3.2MB/s \n",
            "\u001b[?25hRequirement already satisfied: gdown in /usr/local/lib/python3.7/dist-packages (from -r requirements.txt (line 6)) (3.6.4)\n",
            "Requirement already satisfied: numpy>=1.14.5 in /usr/local/lib/python3.7/dist-packages (from opencv-python->-r requirements.txt (line 1)) (1.19.5)\n",
            "Requirement already satisfied: PyWavelets>=0.4.0 in /usr/local/lib/python3.7/dist-packages (from scikit-image->-r requirements.txt (line 3)) (1.1.1)\n",
            "Requirement already satisfied: networkx>=2.0 in /usr/local/lib/python3.7/dist-packages (from scikit-image->-r requirements.txt (line 3)) (2.5.1)\n",
            "Requirement already satisfied: matplotlib!=3.0.0,>=2.0.0 in /usr/local/lib/python3.7/dist-packages (from scikit-image->-r requirements.txt (line 3)) (3.2.2)\n",
            "Requirement already satisfied: imageio>=2.3.0 in /usr/local/lib/python3.7/dist-packages (from scikit-image->-r requirements.txt (line 3)) (2.4.1)\n",
            "Requirement already satisfied: pillow>=4.3.0 in /usr/local/lib/python3.7/dist-packages (from scikit-image->-r requirements.txt (line 3)) (7.1.2)\n",
            "Requirement already satisfied: scipy>=0.19.0 in /usr/local/lib/python3.7/dist-packages (from scikit-image->-r requirements.txt (line 3)) (1.4.1)\n",
            "Requirement already satisfied: six in /usr/local/lib/python3.7/dist-packages (from gdown->-r requirements.txt (line 6)) (1.15.0)\n",
            "Requirement already satisfied: requests in /usr/local/lib/python3.7/dist-packages (from gdown->-r requirements.txt (line 6)) (2.23.0)\n",
            "Requirement already satisfied: decorator<5,>=4.3 in /usr/local/lib/python3.7/dist-packages (from networkx>=2.0->scikit-image->-r requirements.txt (line 3)) (4.4.2)\n",
            "Requirement already satisfied: python-dateutil>=2.1 in /usr/local/lib/python3.7/dist-packages (from matplotlib!=3.0.0,>=2.0.0->scikit-image->-r requirements.txt (line 3)) (2.8.1)\n",
            "Requirement already satisfied: kiwisolver>=1.0.1 in /usr/local/lib/python3.7/dist-packages (from matplotlib!=3.0.0,>=2.0.0->scikit-image->-r requirements.txt (line 3)) (1.3.1)\n",
            "Requirement already satisfied: pyparsing!=2.0.4,!=2.1.2,!=2.1.6,>=2.0.1 in /usr/local/lib/python3.7/dist-packages (from matplotlib!=3.0.0,>=2.0.0->scikit-image->-r requirements.txt (line 3)) (2.4.7)\n",
            "Requirement already satisfied: cycler>=0.10 in /usr/local/lib/python3.7/dist-packages (from matplotlib!=3.0.0,>=2.0.0->scikit-image->-r requirements.txt (line 3)) (0.10.0)\n",
            "Requirement already satisfied: certifi>=2017.4.17 in /usr/local/lib/python3.7/dist-packages (from requests->gdown->-r requirements.txt (line 6)) (2021.5.30)\n",
            "Requirement already satisfied: idna<3,>=2.5 in /usr/local/lib/python3.7/dist-packages (from requests->gdown->-r requirements.txt (line 6)) (2.10)\n",
            "Requirement already satisfied: urllib3!=1.25.0,!=1.25.1,<1.26,>=1.21.1 in /usr/local/lib/python3.7/dist-packages (from requests->gdown->-r requirements.txt (line 6)) (1.24.3)\n",
            "Requirement already satisfied: chardet<4,>=3.0.2 in /usr/local/lib/python3.7/dist-packages (from requests->gdown->-r requirements.txt (line 6)) (3.0.4)\n",
            "Installing collected packages: colorama, tqdm\n",
            "  Found existing installation: tqdm 4.41.1\n",
            "    Uninstalling tqdm-4.41.1:\n",
            "      Successfully uninstalled tqdm-4.41.1\n",
            "Successfully installed colorama-0.4.4 tqdm-4.40.0\n"
          ],
          "name": "stdout"
        }
      ]
    },
    {
      "cell_type": "code",
      "metadata": {
        "colab": {
          "base_uri": "https://localhost:8080/"
        },
        "id": "Ip1tQvkuRATM",
        "outputId": "dc992ebb-5a4a-403b-cbca-5e1b618eba8d"
      },
      "source": [
        "from google.colab import drive\n",
        "drive.mount('/content/gdrive')"
      ],
      "execution_count": 4,
      "outputs": [
        {
          "output_type": "stream",
          "text": [
            "Mounted at /content/gdrive\n"
          ],
          "name": "stdout"
        }
      ]
    },
    {
      "cell_type": "markdown",
      "metadata": {
        "id": "pjYT3bhblqOa"
      },
      "source": [
        "### Execution\n",
        "First run the standard preprocessing pipeline of the neural-scene-flow paper. This will:\n",
        "1. Convert the intrinsics/extrinsics to a special readable format\n",
        "2. Resize the images and run a single view depth model to produce disparity estimates\n",
        "3. Produce optical flow estimates\n",
        "4. Use the optical flow estimates to obtain motion masks\n",
        "\n",
        "We do not use the depth map or the optical flow for custom experiments. "
      ]
    },
    {
      "cell_type": "code",
      "metadata": {
        "id": "572ssyJZNgUf"
      },
      "source": [
        "%cd /content/Neural-Scene-Flow-Fields/nsff_scripts\n",
        "# create camera intrinsics/extrinsic format for NSFF, same as original NeRF where it uses imgs2poses.py script from the LLFF code: https://github.com/Fyusion/LLFF/blob/master/imgs2poses.py\n",
        "!python save_poses_nerf.py --data_path \"/content/nerf_data/kid-running/dense/\"\n",
        "# Resize input images and run single view model\n",
        "!python run_midas.py --data_path \"/content/nerf_data/kid-running/dense/\" --input_w 640 --input_h 360 --resize_height 288\n",
        "# Run optical flow model (for easy setup and Pytorch version consistency, we use RAFT as backbond optical flow model, but should be easy to change to other models such as PWC-Net or FlowNet2.0)\n",
        "!./download_models.sh\n",
        "!python run_flows_video.py --model models/raft-things.pth --data_path /content/nerf_data/kid-running/dense/ --epi_threshold 1.0 --input_flow_w 768 --input_semantic_w 1024 --input_semantic_h 576"
      ],
      "execution_count": null,
      "outputs": []
    },
    {
      "cell_type": "markdown",
      "metadata": {
        "id": "dUSFrCrlXSF2"
      },
      "source": [
        "Next we run the mono-sf code, which will produce:\n",
        "1. Disparity maps\n",
        "2. Scene flow estimates\n",
        "3. Induced optical flow estimates\n",
        "\n",
        "By default, it will not produce visualisations to acompany the stored tensors. To include them in the output, add `--save_vis=True` to `eval_kid_running.sh`"
      ]
    },
    {
      "cell_type": "code",
      "metadata": {
        "colab": {
          "base_uri": "https://localhost:8080/"
        },
        "id": "X4TnXjfrhwJI",
        "outputId": "a17e86ee-8047-483c-a30d-9db332f12ebe"
      },
      "source": [
        "# Run mono-sf to obtain scene flow, induced optical flow and disparity estimates\n",
        "%cd /content/multi-mono-sf/scripts\n",
        "!./eval_kid_running.sh"
      ],
      "execution_count": 8,
      "outputs": [
        {
          "output_type": "stream",
          "text": [
            "/content/multi-mono-sf/scripts\n",
            "\u001b[2m\u001b[37m2021-07-06 01:24:04\u001b[0m \u001b[36m==>\u001b[0m \u001b[1mCommandline Arguments\u001b[0m\n",
            "\u001b[2m\u001b[37m2021-07-06 01:24:04\u001b[0m   \u001b[0mbatch_size: 1\u001b[0m\n",
            "\u001b[2m\u001b[37m2021-07-06 01:24:04\u001b[0m   \u001b[0mbatch_size_val: 1\u001b[0m\n",
            "\u001b[2m\u001b[37m2021-07-06 01:24:04\u001b[0m   \u001b[0mcalculate_disparity_scale: False\u001b[0m\n",
            "\u001b[2m\u001b[37m2021-07-06 01:24:04\u001b[0m   \u001b[36mcheckpoint: checkpoints/checkpoint_kitti_selfsup.ckpt\u001b[0m\n",
            "\u001b[2m\u001b[37m2021-07-06 01:24:04\u001b[0m   \u001b[0mcheckpoint_exclude_params: ['']\u001b[0m\n",
            "\u001b[2m\u001b[37m2021-07-06 01:24:04\u001b[0m   \u001b[0mcheckpoint_include_params: ['*']\u001b[0m\n",
            "\u001b[2m\u001b[37m2021-07-06 01:24:04\u001b[0m   \u001b[0mcheckpoint_mode: resume_from_latest\u001b[0m\n",
            "\u001b[2m\u001b[37m2021-07-06 01:24:04\u001b[0m   \u001b[0mconv_padding_mode: zeros\u001b[0m\n",
            "\u001b[2m\u001b[37m2021-07-06 01:24:04\u001b[0m   \u001b[0mcorrelation_cuda_enabled: False\u001b[0m\n",
            "\u001b[2m\u001b[37m2021-07-06 01:24:04\u001b[0m   \u001b[0mcuda: True\u001b[0m\n",
            "\u001b[2m\u001b[37m2021-07-06 01:24:04\u001b[0m   \u001b[36mevaluation: True\u001b[0m\n",
            "\u001b[2m\u001b[37m2021-07-06 01:24:04\u001b[0m   \u001b[0mfinetuning: False\u001b[0m\n",
            "\u001b[2m\u001b[37m2021-07-06 01:24:04\u001b[0m   \u001b[0mlr_scheduler: None\u001b[0m\n",
            "\u001b[2m\u001b[37m2021-07-06 01:24:04\u001b[0m   \u001b[36mmodel: MonoSceneFlow_Multi\u001b[0m\n",
            "\u001b[2m\u001b[37m2021-07-06 01:24:04\u001b[0m   \u001b[36mnum_workers: 16\u001b[0m\n",
            "\u001b[2m\u001b[37m2021-07-06 01:24:04\u001b[0m   \u001b[0moptimizer: Adam\u001b[0m\n",
            "\u001b[2m\u001b[37m2021-07-06 01:24:04\u001b[0m   \u001b[0moptimizer_amsgrad: False\u001b[0m\n",
            "\u001b[2m\u001b[37m2021-07-06 01:24:04\u001b[0m   \u001b[0moptimizer_betas: (0.9, 0.999)\u001b[0m\n",
            "\u001b[2m\u001b[37m2021-07-06 01:24:04\u001b[0m   \u001b[0moptimizer_eps: 1e-08\u001b[0m\n",
            "\u001b[2m\u001b[37m2021-07-06 01:24:04\u001b[0m   \u001b[0moptimizer_group: None\u001b[0m\n",
            "\u001b[2m\u001b[37m2021-07-06 01:24:04\u001b[0m   \u001b[0moptimizer_lr: 0.001\u001b[0m\n",
            "\u001b[2m\u001b[37m2021-07-06 01:24:04\u001b[0m   \u001b[0moptimizer_weight_decay: 0\u001b[0m\n",
            "\u001b[2m\u001b[37m2021-07-06 01:24:04\u001b[0m   \u001b[36msave: /content/nerf_data/kid-running/dense\u001b[0m\n",
            "\u001b[2m\u001b[37m2021-07-06 01:24:04\u001b[0m   \u001b[36msave_out: True\u001b[0m\n",
            "\u001b[2m\u001b[37m2021-07-06 01:24:04\u001b[0m   \u001b[0msave_vis: False\u001b[0m\n",
            "\u001b[2m\u001b[37m2021-07-06 01:24:04\u001b[0m   \u001b[0mseed: 1\u001b[0m\n",
            "\u001b[2m\u001b[37m2021-07-06 01:24:04\u001b[0m   \u001b[0msequence_length: 4\u001b[0m\n",
            "\u001b[2m\u001b[37m2021-07-06 01:24:04\u001b[0m   \u001b[0mstart_epoch: 1\u001b[0m\n",
            "\u001b[2m\u001b[37m2021-07-06 01:24:04\u001b[0m   \u001b[0mtotal_epochs: 1\u001b[0m\n",
            "\u001b[2m\u001b[37m2021-07-06 01:24:04\u001b[0m   \u001b[0mtraining_augmentation: None\u001b[0m\n",
            "\u001b[2m\u001b[37m2021-07-06 01:24:04\u001b[0m   \u001b[0mtraining_dataset: None\u001b[0m\n",
            "\u001b[2m\u001b[37m2021-07-06 01:24:04\u001b[0m   \u001b[0mtraining_loss: None\u001b[0m\n",
            "\u001b[2m\u001b[37m2021-07-06 01:24:04\u001b[0m   \u001b[36mvalidation_augmentation: Augmentation_Resize_Only_MultiFrame\u001b[0m\n",
            "\u001b[2m\u001b[37m2021-07-06 01:24:04\u001b[0m   \u001b[0mvalidation_augmentation_photometric: False\u001b[0m\n",
            "\u001b[2m\u001b[37m2021-07-06 01:24:04\u001b[0m   \u001b[0mvalidation_augmentation_resize: [256, 832]\u001b[0m\n",
            "\u001b[2m\u001b[37m2021-07-06 01:24:04\u001b[0m   \u001b[36mvalidation_dataset: KidRunning\u001b[0m\n",
            "\u001b[2m\u001b[37m2021-07-06 01:24:04\u001b[0m   \u001b[36mvalidation_dataset_root: /content/nerf_data/kid-running/dense/images_512x288\u001b[0m\n",
            "\u001b[2m\u001b[37m2021-07-06 01:24:04\u001b[0m   \u001b[36mvalidation_key: sf\u001b[0m\n",
            "\u001b[2m\u001b[37m2021-07-06 01:24:04\u001b[0m   \u001b[0mvalidation_key_minimize: True\u001b[0m\n",
            "\u001b[2m\u001b[37m2021-07-06 01:24:04\u001b[0m   \u001b[36mvalidation_loss: Eval_SceneFlow_KITTI_Test_Multi\u001b[0m\n",
            "\u001b[2m\u001b[37m2021-07-06 01:24:04\u001b[0m \u001b[36m==>\u001b[0m \u001b[1mRandom Seeds\u001b[0m\n",
            "\u001b[2m\u001b[37m2021-07-06 01:24:04\u001b[0m   Python seed: 1\n",
            "\u001b[2m\u001b[37m2021-07-06 01:24:04\u001b[0m   Numpy seed: 2\n",
            "\u001b[2m\u001b[37m2021-07-06 01:24:04\u001b[0m   Torch CPU seed: 3\n",
            "\u001b[2m\u001b[37m2021-07-06 01:24:04\u001b[0m   Torch CUDA seed: 4\n",
            "\u001b[2m\u001b[37m2021-07-06 01:24:04\u001b[0m \u001b[36m==>\u001b[0m \u001b[1mDatasets\u001b[0m\n",
            "/usr/local/lib/python3.7/dist-packages/torch/utils/data/dataloader.py:481: UserWarning: This DataLoader will create 16 worker processes in total. Our suggested max number of worker in current system is 2, which is smaller than what this DataLoader is going to create. Please be aware that excessive worker creation might get DataLoader running slow or even freeze, lower the worker number to avoid potential slowness/freeze if necessary.\n",
            "  cpuset_checked))\n",
            "\u001b[2m\u001b[37m2021-07-06 01:24:04\u001b[0m   Validation Dataset: KidRunning\n",
            "\u001b[2m\u001b[37m2021-07-06 01:24:04\u001b[0m     input_k_l: [3, 3]\n",
            "\u001b[2m\u001b[37m2021-07-06 01:24:04\u001b[0m     input_left: [5, 3, 288, 512]\n",
            "\u001b[2m\u001b[37m2021-07-06 01:24:04\u001b[0m     input_size: [2]\n",
            "\u001b[2m\u001b[37m2021-07-06 01:24:04\u001b[0m     num_examples: 71\n",
            "\u001b[2m\u001b[37m2021-07-06 01:24:04\u001b[0m \u001b[36m==>\u001b[0m \u001b[1mRuntime Augmentations\u001b[0m\n",
            "\u001b[2m\u001b[37m2021-07-06 01:24:04\u001b[0m   training_augmentation: None\n",
            "\u001b[2m\u001b[37m2021-07-06 01:24:04\u001b[0m   validation_augmentation: Augmentation_Resize_Only_MultiFrame\n",
            "\u001b[2m\u001b[37m2021-07-06 01:24:04\u001b[0m     photometric: False\n",
            "\u001b[2m\u001b[37m2021-07-06 01:24:04\u001b[0m     resize: [256, 832]\n",
            "\u001b[2m\u001b[37m2021-07-06 01:24:04\u001b[0m \u001b[36m==>\u001b[0m \u001b[1mModel and Loss\u001b[0m\n",
            "\u001b[2m\u001b[37m2021-07-06 01:24:04\u001b[0m   Initializing MSRA\n",
            "\u001b[2m\u001b[37m2021-07-06 01:24:04\u001b[0m   Batch Size: 1\n",
            "\u001b[2m\u001b[37m2021-07-06 01:24:04\u001b[0m   GPGPU: Cuda\n",
            "\u001b[2m\u001b[37m2021-07-06 01:24:04\u001b[0m   Network: MonoSceneFlow_Multi\n",
            "\u001b[2m\u001b[37m2021-07-06 01:24:04\u001b[0m   Number of parameters: 7536920\n",
            "\u001b[2m\u001b[37m2021-07-06 01:24:04\u001b[0m   Validation Key: sf\n",
            "\u001b[2m\u001b[37m2021-07-06 01:24:04\u001b[0m   Validation Loss: Eval_SceneFlow_KITTI_Test_Multi\n",
            "\u001b[2m\u001b[37m2021-07-06 01:24:08\u001b[0m \u001b[36m==>\u001b[0m \u001b[1mOptimizer\u001b[0m\n",
            "\u001b[2m\u001b[37m2021-07-06 01:24:08\u001b[0m   Adam\n",
            "\u001b[2m\u001b[37m2021-07-06 01:24:08\u001b[0m   amsgrad: False\n",
            "\u001b[2m\u001b[37m2021-07-06 01:24:08\u001b[0m   betas: (0.9, 0.999)\n",
            "\u001b[2m\u001b[37m2021-07-06 01:24:08\u001b[0m   eps: 1e-08\n",
            "\u001b[2m\u001b[37m2021-07-06 01:24:08\u001b[0m   lr: 0.001\n",
            "\u001b[2m\u001b[37m2021-07-06 01:24:08\u001b[0m   weight_decay: 0\n",
            "\u001b[2m\u001b[37m2021-07-06 01:24:08\u001b[0m \u001b[36m==>\u001b[0m \u001b[1mLearning Rate Scheduler\u001b[0m\n",
            "\u001b[2m\u001b[37m2021-07-06 01:24:08\u001b[0m   class: None\n",
            "\u001b[2m\u001b[37m2021-07-06 01:24:08\u001b[0m \u001b[36m==>\u001b[0m \u001b[1mCheckpoint\u001b[0m\n",
            "\u001b[2m\u001b[37m2021-07-06 01:24:08\u001b[0m     Restore keys:\n",
            "\u001b[2m\u001b[37m2021-07-06 01:24:08\u001b[0m       _model.feature_pyramid_extractor.convs.1.0.0.weight\n",
            "\u001b[2m\u001b[37m2021-07-06 01:24:08\u001b[0m       _model.flow_estimators.2.conv_sf.0.0.weight\n",
            "\u001b[2m\u001b[37m2021-07-06 01:24:08\u001b[0m       _model.flow_estimators.0.conv_d1.2.0.weight\n",
            "\u001b[2m\u001b[37m2021-07-06 01:24:08\u001b[0m       _model.flow_estimators.2.conv_lstm.0.bias\n",
            "\u001b[2m\u001b[37m2021-07-06 01:24:08\u001b[0m       _model.flow_estimators.2.conv_d1.1.0.weight\n",
            "\u001b[2m\u001b[37m2021-07-06 01:24:08\u001b[0m       _model.flow_estimators.3.conv_d1.0.0.weight\n",
            "\u001b[2m\u001b[37m2021-07-06 01:24:08\u001b[0m       _model.upconv_layers.1.conv1.0.bias\n",
            "\u001b[2m\u001b[37m2021-07-06 01:24:08\u001b[0m       _model.flow_estimators.0.conv_sf.2.0.bias\n",
            "\u001b[2m\u001b[37m2021-07-06 01:24:08\u001b[0m       _model.flow_estimators.3.conv_d1.2.0.bias\n",
            "\u001b[2m\u001b[37m2021-07-06 01:24:08\u001b[0m       _model.flow_estimators.3.conv_d1.1.0.weight\n",
            "\u001b[2m\u001b[37m2021-07-06 01:24:08\u001b[0m       _model.flow_estimators.2.featprop_softsplat.conv1x1.0.bias\n",
            "\u001b[2m\u001b[37m2021-07-06 01:24:08\u001b[0m       _model.feature_pyramid_extractor.convs.4.0.0.weight\n",
            "\u001b[2m\u001b[37m2021-07-06 01:24:08\u001b[0m       _model.flow_estimators.0.conv_sf.1.0.weight\n",
            "\u001b[2m\u001b[37m2021-07-06 01:24:08\u001b[0m       _model.flow_estimators.1.conv_d1.1.0.weight\n",
            "\u001b[2m\u001b[37m2021-07-06 01:24:08\u001b[0m       _model.feature_pyramid_extractor.convs.0.0.0.weight\n",
            "\u001b[2m\u001b[37m2021-07-06 01:24:08\u001b[0m       _model.flow_estimators.3.conv_sf.1.0.weight\n",
            "\u001b[2m\u001b[37m2021-07-06 01:24:08\u001b[0m       _model.flow_estimators.0.conv_d1.0.0.bias\n",
            "\u001b[2m\u001b[37m2021-07-06 01:24:08\u001b[0m       _model.flow_estimators.2.conv_sf.2.0.bias\n",
            "\u001b[2m\u001b[37m2021-07-06 01:24:08\u001b[0m       _model.flow_estimators.3.conv_lstm.0.weight\n",
            "\u001b[2m\u001b[37m2021-07-06 01:24:08\u001b[0m       _model.flow_estimators.2.conv_sf.1.0.bias\n",
            "\u001b[2m\u001b[37m2021-07-06 01:24:08\u001b[0m       _model.flow_estimators.1.conv_lstm.0.bias\n",
            "\u001b[2m\u001b[37m2021-07-06 01:24:08\u001b[0m       _model.flow_estimators.2.conv_c_init.0.bias\n",
            "\u001b[2m\u001b[37m2021-07-06 01:24:08\u001b[0m       _model.flow_estimators.3.convs.2.0.weight\n",
            "\u001b[2m\u001b[37m2021-07-06 01:24:08\u001b[0m       _model.flow_estimators.1.conv_d1.1.0.bias\n",
            "\u001b[2m\u001b[37m2021-07-06 01:24:08\u001b[0m       _model.flow_estimators.3.convs.0.0.weight\n",
            "\u001b[2m\u001b[37m2021-07-06 01:24:08\u001b[0m       _model.flow_estimators.1.conv_sf.0.0.bias\n",
            "\u001b[2m\u001b[37m2021-07-06 01:24:08\u001b[0m       _model.feature_pyramid_extractor.convs.4.1.0.weight\n",
            "\u001b[2m\u001b[37m2021-07-06 01:24:08\u001b[0m       _model.feature_pyramid_extractor.convs.3.0.0.bias\n",
            "\u001b[2m\u001b[37m2021-07-06 01:24:08\u001b[0m       _model.flow_estimators.1.convs.2.0.bias\n",
            "\u001b[2m\u001b[37m2021-07-06 01:24:08\u001b[0m       _model.feature_pyramid_extractor.convs.4.0.0.bias\n",
            "\u001b[2m\u001b[37m2021-07-06 01:24:08\u001b[0m       _model.flow_estimators.1.featprop_softsplat.conv1x1.0.weight\n",
            "\u001b[2m\u001b[37m2021-07-06 01:24:08\u001b[0m       _model.flow_estimators.0.featprop_softsplat.conv1x1.0.weight\n",
            "\u001b[2m\u001b[37m2021-07-06 01:24:08\u001b[0m       _model.flow_estimators.0.conv_lstm.0.weight\n",
            "\u001b[2m\u001b[37m2021-07-06 01:24:08\u001b[0m       _model.feature_pyramid_extractor.convs.2.0.0.weight\n",
            "\u001b[2m\u001b[37m2021-07-06 01:24:08\u001b[0m       _model.flow_estimators.2.featprop_softsplat.conv1x1.0.weight\n",
            "\u001b[2m\u001b[37m2021-07-06 01:24:08\u001b[0m       _model.flow_estimators.1.conv_d1.2.0.bias\n",
            "\u001b[2m\u001b[37m2021-07-06 01:24:08\u001b[0m       _model.flow_estimators.3.convs.1.0.weight\n",
            "\u001b[2m\u001b[37m2021-07-06 01:24:08\u001b[0m       _model.flow_estimators.2.conv_sf.2.0.weight\n",
            "\u001b[2m\u001b[37m2021-07-06 01:24:08\u001b[0m       _model.flow_estimators.3.conv_d1.1.0.bias\n",
            "\u001b[2m\u001b[37m2021-07-06 01:24:08\u001b[0m       _model.flow_estimators.1.convs.2.0.weight\n",
            "\u001b[2m\u001b[37m2021-07-06 01:24:08\u001b[0m       _model.feature_pyramid_extractor.convs.3.1.0.bias\n",
            "\u001b[2m\u001b[37m2021-07-06 01:24:08\u001b[0m       _model.flow_estimators.1.conv_sf.0.0.weight\n",
            "\u001b[2m\u001b[37m2021-07-06 01:24:08\u001b[0m       _model.flow_estimators.1.convs.0.0.bias\n",
            "\u001b[2m\u001b[37m2021-07-06 01:24:08\u001b[0m       _model.flow_estimators.0.convs.2.0.weight\n",
            "\u001b[2m\u001b[37m2021-07-06 01:24:08\u001b[0m       _model.flow_estimators.0.conv_sf.1.0.bias\n",
            "\u001b[2m\u001b[37m2021-07-06 01:24:08\u001b[0m       _model.feature_pyramid_extractor.convs.1.0.0.bias\n",
            "\u001b[2m\u001b[37m2021-07-06 01:24:08\u001b[0m       _model.flow_estimators.2.conv_sf.0.0.bias\n",
            "\u001b[2m\u001b[37m2021-07-06 01:24:08\u001b[0m       _model.flow_estimators.3.convs.1.0.bias\n",
            "\u001b[2m\u001b[37m2021-07-06 01:24:08\u001b[0m       _model.feature_pyramid_extractor.convs.1.1.0.bias\n",
            "\u001b[2m\u001b[37m2021-07-06 01:24:08\u001b[0m       _model.flow_estimators.1.conv_d1.0.0.bias\n",
            "\u001b[2m\u001b[37m2021-07-06 01:24:08\u001b[0m       _model.upconv_layers.0.conv1.0.weight\n",
            "\u001b[2m\u001b[37m2021-07-06 01:24:08\u001b[0m       _model.flow_estimators.3.conv_c_init.0.bias\n",
            "\u001b[2m\u001b[37m2021-07-06 01:24:08\u001b[0m       _model.flow_estimators.3.conv_sf.2.0.weight\n",
            "\u001b[2m\u001b[37m2021-07-06 01:24:08\u001b[0m       _model.flow_estimators.0.conv_d1.1.0.weight\n",
            "\u001b[2m\u001b[37m2021-07-06 01:24:08\u001b[0m       _model.flow_estimators.2.convs.1.0.weight\n",
            "\u001b[2m\u001b[37m2021-07-06 01:24:08\u001b[0m       _model.flow_estimators.1.convs.1.0.bias\n",
            "\u001b[2m\u001b[37m2021-07-06 01:24:08\u001b[0m       _model.feature_pyramid_extractor.convs.2.1.0.bias\n",
            "\u001b[2m\u001b[37m2021-07-06 01:24:08\u001b[0m       _model.flow_estimators.1.conv_sf.1.0.bias\n",
            "\u001b[2m\u001b[37m2021-07-06 01:24:08\u001b[0m       _model.flow_estimators.0.conv_sf.0.0.bias\n",
            "\u001b[2m\u001b[37m2021-07-06 01:24:08\u001b[0m       _model.feature_pyramid_extractor.convs.2.0.0.bias\n",
            "\u001b[2m\u001b[37m2021-07-06 01:24:08\u001b[0m       _model.flow_estimators.1.conv_d1.0.0.weight\n",
            "\u001b[2m\u001b[37m2021-07-06 01:24:08\u001b[0m       _model.flow_estimators.1.convs.0.0.weight\n",
            "\u001b[2m\u001b[37m2021-07-06 01:24:08\u001b[0m       _model.flow_estimators.1.conv_c_init.0.weight\n",
            "\u001b[2m\u001b[37m2021-07-06 01:24:08\u001b[0m       _model.feature_pyramid_extractor.convs.3.0.0.weight\n",
            "\u001b[2m\u001b[37m2021-07-06 01:24:08\u001b[0m       _model.flow_estimators.2.convs.0.0.weight\n",
            "\u001b[2m\u001b[37m2021-07-06 01:24:08\u001b[0m       _model.flow_estimators.1.conv_sf.2.0.bias\n",
            "\u001b[2m\u001b[37m2021-07-06 01:24:08\u001b[0m       _model.flow_estimators.0.convs.2.0.bias\n",
            "\u001b[2m\u001b[37m2021-07-06 01:24:08\u001b[0m       _model.flow_estimators.0.conv_sf.2.0.weight\n",
            "\u001b[2m\u001b[37m2021-07-06 01:24:08\u001b[0m       _model.flow_estimators.1.featprop_softsplat.conv1x1.0.bias\n",
            "\u001b[2m\u001b[37m2021-07-06 01:24:08\u001b[0m       _model.flow_estimators.0.convs.1.0.weight\n",
            "\u001b[2m\u001b[37m2021-07-06 01:24:08\u001b[0m       _model.flow_estimators.2.conv_d1.2.0.weight\n",
            "\u001b[2m\u001b[37m2021-07-06 01:24:08\u001b[0m       _model.flow_estimators.0.conv_d1.2.0.bias\n",
            "\u001b[2m\u001b[37m2021-07-06 01:24:08\u001b[0m       _model.flow_estimators.2.conv_d1.2.0.bias\n",
            "\u001b[2m\u001b[37m2021-07-06 01:24:08\u001b[0m       _model.upconv_layers.0.conv1.0.bias\n",
            "\u001b[2m\u001b[37m2021-07-06 01:24:08\u001b[0m       _model.flow_estimators.0.conv_sf.0.0.weight\n",
            "\u001b[2m\u001b[37m2021-07-06 01:24:08\u001b[0m       _model.upconv_layers.1.conv1.0.weight\n",
            "\u001b[2m\u001b[37m2021-07-06 01:24:08\u001b[0m       _model.flow_estimators.3.conv_sf.1.0.bias\n",
            "\u001b[2m\u001b[37m2021-07-06 01:24:08\u001b[0m       _model.flow_estimators.1.convs.1.0.weight\n",
            "\u001b[2m\u001b[37m2021-07-06 01:24:08\u001b[0m       _model.feature_pyramid_extractor.convs.3.1.0.weight\n",
            "\u001b[2m\u001b[37m2021-07-06 01:24:08\u001b[0m       _model.flow_estimators.2.convs.2.0.weight\n",
            "\u001b[2m\u001b[37m2021-07-06 01:24:08\u001b[0m       _model.flow_estimators.3.conv_d1.0.0.bias\n",
            "\u001b[2m\u001b[37m2021-07-06 01:24:08\u001b[0m       _model.flow_estimators.2.conv_d1.0.0.bias\n",
            "\u001b[2m\u001b[37m2021-07-06 01:24:08\u001b[0m       _model.flow_estimators.0.conv_c_init.0.weight\n",
            "\u001b[2m\u001b[37m2021-07-06 01:24:08\u001b[0m       _model.flow_estimators.1.conv_d1.2.0.weight\n",
            "\u001b[2m\u001b[37m2021-07-06 01:24:08\u001b[0m       _model.feature_pyramid_extractor.convs.4.1.0.bias\n",
            "\u001b[2m\u001b[37m2021-07-06 01:24:08\u001b[0m       _model.flow_estimators.1.conv_sf.2.0.weight\n",
            "\u001b[2m\u001b[37m2021-07-06 01:24:08\u001b[0m       _model.flow_estimators.0.convs.1.0.bias\n",
            "\u001b[2m\u001b[37m2021-07-06 01:24:08\u001b[0m       _model.flow_estimators.0.conv_d1.0.0.weight\n",
            "\u001b[2m\u001b[37m2021-07-06 01:24:08\u001b[0m       _model.flow_estimators.0.conv_c_init.0.bias\n",
            "\u001b[2m\u001b[37m2021-07-06 01:24:08\u001b[0m       _model.flow_estimators.1.conv_lstm.0.weight\n",
            "\u001b[2m\u001b[37m2021-07-06 01:24:08\u001b[0m       _model.feature_pyramid_extractor.convs.0.1.0.weight\n",
            "\u001b[2m\u001b[37m2021-07-06 01:24:08\u001b[0m       _model.flow_estimators.0.featprop_softsplat.conv1x1.0.bias\n",
            "\u001b[2m\u001b[37m2021-07-06 01:24:08\u001b[0m       _model.flow_estimators.3.featprop_softsplat.conv1x1.0.bias\n",
            "\u001b[2m\u001b[37m2021-07-06 01:24:08\u001b[0m       _model.flow_estimators.2.conv_d1.1.0.bias\n",
            "\u001b[2m\u001b[37m2021-07-06 01:24:08\u001b[0m       _model.flow_estimators.1.conv_sf.1.0.weight\n",
            "\u001b[2m\u001b[37m2021-07-06 01:24:08\u001b[0m       _model.flow_estimators.2.conv_d1.0.0.weight\n",
            "\u001b[2m\u001b[37m2021-07-06 01:24:08\u001b[0m       _model.flow_estimators.2.convs.2.0.bias\n",
            "\u001b[2m\u001b[37m2021-07-06 01:24:08\u001b[0m       _model.flow_estimators.2.conv_c_init.0.weight\n",
            "\u001b[2m\u001b[37m2021-07-06 01:24:08\u001b[0m       _model.feature_pyramid_extractor.convs.0.0.0.bias\n",
            "\u001b[2m\u001b[37m2021-07-06 01:24:08\u001b[0m       _model.flow_estimators.2.conv_sf.1.0.weight\n",
            "\u001b[2m\u001b[37m2021-07-06 01:24:08\u001b[0m       _model.flow_estimators.3.conv_d1.2.0.weight\n",
            "\u001b[2m\u001b[37m2021-07-06 01:24:08\u001b[0m       _model.flow_estimators.1.conv_c_init.0.bias\n",
            "\u001b[2m\u001b[37m2021-07-06 01:24:08\u001b[0m       _model.flow_estimators.3.conv_lstm.0.bias\n",
            "\u001b[2m\u001b[37m2021-07-06 01:24:08\u001b[0m       _model.flow_estimators.3.conv_sf.0.0.weight\n",
            "\u001b[2m\u001b[37m2021-07-06 01:24:08\u001b[0m       _model.feature_pyramid_extractor.convs.2.1.0.weight\n",
            "\u001b[2m\u001b[37m2021-07-06 01:24:08\u001b[0m       _model.flow_estimators.3.conv_c_init.0.weight\n",
            "\u001b[2m\u001b[37m2021-07-06 01:24:08\u001b[0m       _model.flow_estimators.3.conv_sf.2.0.bias\n",
            "\u001b[2m\u001b[37m2021-07-06 01:24:08\u001b[0m       _model.flow_estimators.3.featprop_softsplat.conv1x1.0.weight\n",
            "\u001b[2m\u001b[37m2021-07-06 01:24:08\u001b[0m       _model.flow_estimators.0.conv_lstm.0.bias\n",
            "\u001b[2m\u001b[37m2021-07-06 01:24:08\u001b[0m       _model.flow_estimators.3.conv_sf.0.0.bias\n",
            "\u001b[2m\u001b[37m2021-07-06 01:24:08\u001b[0m       _model.flow_estimators.3.convs.0.0.bias\n",
            "\u001b[2m\u001b[37m2021-07-06 01:24:08\u001b[0m       _model.flow_estimators.2.convs.1.0.bias\n",
            "\u001b[2m\u001b[37m2021-07-06 01:24:08\u001b[0m       _model.flow_estimators.3.convs.2.0.bias\n",
            "\u001b[2m\u001b[37m2021-07-06 01:24:08\u001b[0m       _model.flow_estimators.0.convs.0.0.weight\n",
            "\u001b[2m\u001b[37m2021-07-06 01:24:08\u001b[0m       _model.upconv_layers.2.conv1.0.bias\n",
            "\u001b[2m\u001b[37m2021-07-06 01:24:08\u001b[0m       _model.upconv_layers.2.conv1.0.weight\n",
            "\u001b[2m\u001b[37m2021-07-06 01:24:08\u001b[0m       _model.feature_pyramid_extractor.convs.0.1.0.bias\n",
            "\u001b[2m\u001b[37m2021-07-06 01:24:08\u001b[0m       _model.flow_estimators.0.conv_d1.1.0.bias\n",
            "\u001b[2m\u001b[37m2021-07-06 01:24:08\u001b[0m       _model.flow_estimators.2.convs.0.0.bias\n",
            "\u001b[2m\u001b[37m2021-07-06 01:24:08\u001b[0m       _model.flow_estimators.0.convs.0.0.bias\n",
            "\u001b[2m\u001b[37m2021-07-06 01:24:08\u001b[0m       _model.flow_estimators.2.conv_lstm.0.weight\n",
            "\u001b[2m\u001b[37m2021-07-06 01:24:08\u001b[0m       _model.feature_pyramid_extractor.convs.1.1.0.weight\n",
            "\u001b[2m\u001b[37m2021-07-06 01:24:08\u001b[0m \u001b[36m==>\u001b[0m \u001b[1mMulti GPU\u001b[0m\n",
            "\u001b[2m\u001b[37m2021-07-06 01:24:08\u001b[0m   Let's use 1 GPU!\n",
            "\u001b[2m\u001b[37m2021-07-06 01:24:08\u001b[0m \u001b[36m==>\u001b[0m \u001b[1mSave Directory\u001b[0m\n",
            "\u001b[2m\u001b[37m2021-07-06 01:24:08\u001b[0m   Save directory: /content/nerf_data/kid-running/dense\n",
            "\u001b[2m\u001b[37m2021-07-06 01:24:08\u001b[0m \u001b[36m==>\u001b[0m \u001b[1mRuntime\u001b[0m\n",
            "\u001b[2m\u001b[37m2021-07-06 01:24:08\u001b[0m   start_epoch: 1\n",
            "\u001b[2m\u001b[37m2021-07-06 01:24:08\u001b[0m   total_epochs: 1\n",
            "\n",
            "Progress:   0% 0/1 [00:00<?, ?ep/s]\n",
            "\n",
            "\u001b[2m\u001b[37m2021-07-06 01:24:08\u001b[0m \u001b[36m==>\u001b[0m \u001b[1mEpoch 1/1\u001b[0m\n",
            "Validate:   0% 0/71 [00:00<?, ?it/s]\u001b[2m\u001b[37m2021-07-06 01:24:10\u001b[0m   /content/nerf_data/kid-running/dense/flow has been created.\n",
            "\u001b[2m\u001b[37m2021-07-06 01:24:10\u001b[0m   /content/nerf_data/kid-running/dense/disp_0 has been created.\n",
            "\u001b[2m\u001b[37m2021-07-06 01:24:10\u001b[0m   /content/nerf_data/kid-running/dense/disp_1 has been created.\n",
            "\u001b[2m\u001b[37m2021-07-06 01:24:10\u001b[0m   /content/nerf_data/kid-running/dense/sf has been created.\n",
            "Validate: 100% 71/71 [00:27<00:00,  2.55it/ssf=0.0000]\n",
            "Progress: 100% 1/1 [00:27<00:00, 27.81s/epbest_sf_avg=0.0000]\n",
            "\n",
            "Progress: 100% 1/1 [00:27<00:00, 27.81s/epbest_sf_avg=0.0000]\n",
            "\u001b[2m\u001b[37m2021-07-06 01:24:35\u001b[0m Finished.\n"
          ],
          "name": "stdout"
        }
      ]
    },
    {
      "cell_type": "markdown",
      "metadata": {
        "id": "i55WjXh6X1oA"
      },
      "source": [
        "Next, remove the unneeded content (nsf scene flow & nsf disparity), zip the content and store in google drive."
      ]
    },
    {
      "cell_type": "code",
      "metadata": {
        "id": "bn-VvfvfX5Pf"
      },
      "source": [
        "# Remove irrelevant folders\n",
        "!rm -rf /content/nerf_data/kid-running/dense/flow_i1 #nsf optical flow\n",
        "!rm -rf /content/nerf_data/kid-running/dense/disp #nsf disparity"
      ],
      "execution_count": null,
      "outputs": []
    },
    {
      "cell_type": "code",
      "metadata": {
        "id": "LgXfqA8DO3L2"
      },
      "source": [
        "#save to gdrive\n",
        "cd /content/\n",
        "!zip -r custom_nerf_data.zip /content/nerf_data\n",
        "!cp -r custom_nerf_data.zip /content/gdrive/MyDrive/Thesis/Data\n",
        "!ls /content/gdrive/MyDrive/Thesis/Data"
      ],
      "execution_count": 10,
      "outputs": []
    },
    {
      "cell_type": "code",
      "metadata": {
        "id": "DAIpLy6dTJ9r"
      },
      "source": [
        ""
      ],
      "execution_count": null,
      "outputs": []
    }
  ]
}