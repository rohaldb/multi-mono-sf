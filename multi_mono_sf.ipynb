{
  "nbformat": 4,
  "nbformat_minor": 0,
  "metadata": {
    "colab": {
      "name": "multi-mono-sf.ipynb",
      "provenance": [],
      "collapsed_sections": []
    },
    "kernelspec": {
      "name": "python3",
      "display_name": "Python 3"
    },
    "language_info": {
      "name": "python"
    },
    "accelerator": "GPU"
  },
  "cells": [
    {
      "cell_type": "markdown",
      "metadata": {
        "id": "MPDRUrEVqf9F"
      },
      "source": [
        "### Setup"
      ]
    },
    {
      "cell_type": "code",
      "metadata": {
        "id": "pVF_fRkqQN6q"
      },
      "source": [
        "#download the image data\n",
        "%cd /content/\n",
        "!gdown https://drive.google.com/uc?id=1HpFpsQ7VojeJbXj8i9i8IeIzXrzQ5zOs\n",
        "!unzip \"nerf_data.zip\"; rm \"nerf_data.zip\"\n",
        "# !gdown https://drive.google.com/uc?id=1ahp0Ac3I_7Fm1usqPT_Rvgww5KaLvo6Y\n",
        "# !unzip davis.zip; rm davis.zip"
      ],
      "execution_count": null,
      "outputs": []
    },
    {
      "cell_type": "code",
      "metadata": {
        "id": "ZFbhZA28nFVm"
      },
      "source": [
        "!git clone https://github.com/rohaldb/multi-mono-sf.git\n",
        "%cd multi-mono-sf\n",
        "!chmod -R +x ./\n",
        "!pip install -r requirements.txt"
      ],
      "execution_count": null,
      "outputs": []
    },
    {
      "cell_type": "code",
      "metadata": {
        "colab": {
          "base_uri": "https://localhost:8080/"
        },
        "id": "Ip1tQvkuRATM",
        "outputId": "6e272e2b-3add-4ed2-a28d-631ba67d8c00"
      },
      "source": [
        "from google.colab import drive\n",
        "drive.mount('/content/gdrive')"
      ],
      "execution_count": 3,
      "outputs": [
        {
          "output_type": "stream",
          "text": [
            "Mounted at /content/gdrive\n"
          ],
          "name": "stdout"
        }
      ]
    },
    {
      "cell_type": "markdown",
      "metadata": {
        "id": "pjYT3bhblqOa"
      },
      "source": [
        "### Execution\n",
        "Run the following and then look in `eval/kid_running`"
      ]
    },
    {
      "cell_type": "code",
      "metadata": {
        "id": "572ssyJZNgUf"
      },
      "source": [
        "# Resize input images to be smaller resolution\n",
        "%cd /content/multi-mono-sf/utils/\n",
        "!python ./resize_images.py --data_path \"/content/nerf_data/kid-running/dense/\" --resize_height 288"
      ],
      "execution_count": null,
      "outputs": []
    },
    {
      "cell_type": "code",
      "metadata": {
        "id": "X4TnXjfrhwJI"
      },
      "source": [
        "# Run mono-sf to obtain scene flow, induced optical flow and disparity estimates\n",
        "%cd /content/multi-mono-sf/scripts\n",
        "!./eval_custom.sh"
      ],
      "execution_count": null,
      "outputs": []
    },
    {
      "cell_type": "code",
      "metadata": {
        "id": "LgXfqA8DO3L2"
      },
      "source": [
        "!cp -r /content/multi-mono-sf/scripts/foo.zip /content/gdrive/MyDrive/Thesis/Data\n",
        "!ls /content/gdrive/MyDrive/Thesis/Data"
      ],
      "execution_count": 10,
      "outputs": []
    },
    {
      "cell_type": "code",
      "metadata": {
        "id": "DAIpLy6dTJ9r"
      },
      "source": [
        ""
      ],
      "execution_count": null,
      "outputs": []
    }
  ]
}